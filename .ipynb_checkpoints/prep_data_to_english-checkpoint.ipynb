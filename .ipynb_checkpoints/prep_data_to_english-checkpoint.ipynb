{
 "cells": [
  {
   "cell_type": "code",
   "execution_count": 1,
   "metadata": {},
   "outputs": [],
   "source": [
    "import pandas as pd"
   ]
  },
  {
   "cell_type": "code",
   "execution_count": 4,
   "metadata": {},
   "outputs": [],
   "source": [
    "df = pd.read_csv('internet_usage_spain.csv')"
   ]
  },
  {
   "cell_type": "code",
   "execution_count": 5,
   "metadata": {},
   "outputs": [
    {
     "data": {
      "text/html": "<div>\n<style scoped>\n    .dataframe tbody tr th:only-of-type {\n        vertical-align: middle;\n    }\n\n    .dataframe tbody tr th {\n        vertical-align: top;\n    }\n\n    .dataframe thead th {\n        text-align: right;\n    }\n</style>\n<table border=\"1\" class=\"dataframe\">\n  <thead>\n    <tr style=\"text-align: right;\">\n      <th></th>\n      <th>internet_usage</th>\n      <th>sex</th>\n      <th>age</th>\n      <th>education</th>\n    </tr>\n  </thead>\n  <tbody>\n    <tr>\n      <th>0</th>\n      <td>0</td>\n      <td>Mujer</td>\n      <td>66</td>\n      <td>Primaria</td>\n    </tr>\n    <tr>\n      <th>1</th>\n      <td>1</td>\n      <td>Hombre</td>\n      <td>72</td>\n      <td>Primaria</td>\n    </tr>\n    <tr>\n      <th>2</th>\n      <td>1</td>\n      <td>Hombre</td>\n      <td>48</td>\n      <td>Medios universitarios</td>\n    </tr>\n    <tr>\n      <th>3</th>\n      <td>0</td>\n      <td>Hombre</td>\n      <td>59</td>\n      <td>Superiores</td>\n    </tr>\n    <tr>\n      <th>4</th>\n      <td>1</td>\n      <td>Mujer</td>\n      <td>44</td>\n      <td>Superiores</td>\n    </tr>\n  </tbody>\n</table>\n</div>",
      "text/plain": "   internet_usage     sex  age              education\n0               0   Mujer   66               Primaria\n1               1  Hombre   72               Primaria\n2               1  Hombre   48  Medios universitarios\n3               0  Hombre   59             Superiores\n4               1   Mujer   44             Superiores"
     },
     "execution_count": 5,
     "metadata": {},
     "output_type": "execute_result"
    }
   ],
   "source": [
    "df.head()"
   ]
  },
  {
   "cell_type": "code",
   "execution_count": 10,
   "metadata": {},
   "outputs": [],
   "source": [
    "df['sex'] = df.sex.replace({'Mujer': 'Female', 'Hombre': 'Male'})"
   ]
  },
  {
   "cell_type": "code",
   "execution_count": 15,
   "metadata": {},
   "outputs": [],
   "source": [
    "u = df.education.unique()"
   ]
  },
  {
   "cell_type": "code",
   "execution_count": 16,
   "metadata": {},
   "outputs": [],
   "source": [
    "o = ['Elementary', 'University', 'PhD', 'Higher Level', 'No studies', 'High School']"
   ]
  },
  {
   "cell_type": "code",
   "execution_count": 20,
   "metadata": {},
   "outputs": [],
   "source": [
    "df['education'] = df.education.replace(dict(zip(u,o)))"
   ]
  },
  {
   "cell_type": "code",
   "execution_count": 21,
   "metadata": {},
   "outputs": [
    {
     "data": {
      "text/html": "<div>\n<style scoped>\n    .dataframe tbody tr th:only-of-type {\n        vertical-align: middle;\n    }\n\n    .dataframe tbody tr th {\n        vertical-align: top;\n    }\n\n    .dataframe thead th {\n        text-align: right;\n    }\n</style>\n<table border=\"1\" class=\"dataframe\">\n  <thead>\n    <tr style=\"text-align: right;\">\n      <th></th>\n      <th>internet_usage</th>\n      <th>sex</th>\n      <th>age</th>\n      <th>education</th>\n    </tr>\n  </thead>\n  <tbody>\n    <tr>\n      <th>0</th>\n      <td>0</td>\n      <td>Female</td>\n      <td>66</td>\n      <td>Elementary</td>\n    </tr>\n    <tr>\n      <th>1</th>\n      <td>1</td>\n      <td>Male</td>\n      <td>72</td>\n      <td>Elementary</td>\n    </tr>\n    <tr>\n      <th>2</th>\n      <td>1</td>\n      <td>Male</td>\n      <td>48</td>\n      <td>University</td>\n    </tr>\n    <tr>\n      <th>3</th>\n      <td>0</td>\n      <td>Male</td>\n      <td>59</td>\n      <td>PhD</td>\n    </tr>\n    <tr>\n      <th>4</th>\n      <td>1</td>\n      <td>Female</td>\n      <td>44</td>\n      <td>PhD</td>\n    </tr>\n  </tbody>\n</table>\n</div>",
      "text/plain": "   internet_usage     sex  age   education\n0               0  Female   66  Elementary\n1               1    Male   72  Elementary\n2               1    Male   48  University\n3               0    Male   59         PhD\n4               1  Female   44         PhD"
     },
     "execution_count": 21,
     "metadata": {},
     "output_type": "execute_result"
    }
   ],
   "source": [
    "df.head()"
   ]
  },
  {
   "cell_type": "code",
   "execution_count": 22,
   "metadata": {},
   "outputs": [],
   "source": [
    "df.to_csv('internet_usage_spain_v2.csv')"
   ]
  },
  {
   "cell_type": "code",
   "execution_count": 23,
   "metadata": {},
   "outputs": [],
   "source": [
    "df = pd.get_dummies(df, drop_first=True)"
   ]
  },
  {
   "cell_type": "code",
   "execution_count": 24,
   "metadata": {},
   "outputs": [],
   "source": [
    "target = df.internet_usage"
   ]
  },
  {
   "cell_type": "code",
   "execution_count": 25,
   "metadata": {},
   "outputs": [],
   "source": [
    "explanatory = df.drop(columns='internet_usage')"
   ]
  },
  {
   "cell_type": "markdown",
   "metadata": {},
   "source": [
    "It's tough to find things that always work the same way in programming.\n",
    "\n",
    "The steps of a Machine Learning (ML) model can be an exception.\n",
    "\n",
    "Everything we want to compute a model and make conclusions about it, we would always make the following steps:\n",
    "\n",
    "1. `model.fit()`\n",
    "2. `model.predict()`\n",
    "3. `model.score()`\n",
    "\n",
    "And I am going to show you this with 3 different ML models.\n",
    "\n",
    "- Decision Tree Classifier\n",
    "- Random Forest Classifier\n",
    "- Logistic Regression\n",
    "\n",
    "But, let's first prepare the data:\n",
    "\n",
    "```python\n",
    "df = pd.read_csv('https://raw.githubusercontent.com/sotastica/data/main/internet_usage_spain_v2.csv')\n",
    "df.head()\n",
    "```\n",
    "\n",
    "- Each row represents a person\n",
    "- Each column represents a characteristic of the person\n",
    "- The goal is to classify a person whether they used the internet during the last 12 months\n",
    "- Depending on their demographics\n",
    "\n",
    "We need to transform the categorical variables to dummy variables before computing the models:\n",
    "\n",
    "```python\n",
    "df = pd.get_dummies(df, drop_first=True)\n",
    "df.head()\n",
    "```\n",
    "\n",
    "Now we separate the variables on their respective role within the model:\n",
    "\n",
    "```python\n",
    "target = df.internet_usage\n",
    "explanatory = df.drop(columns='internet_usage')\n",
    "```\n",
    "\n",
    "## Decision Tree Classifier\n",
    "\n",
    "```python\n",
    "\n",
    "```"
   ]
  },
  {
   "cell_type": "code",
   "execution_count": 28,
   "metadata": {},
   "outputs": [
    {
     "data": {
      "text/plain": "DecisionTreeClassifier()"
     },
     "execution_count": 28,
     "metadata": {},
     "output_type": "execute_result"
    }
   ],
   "source": [
    "from sklearn.tree import DecisionTreeClassifier\n",
    "\n",
    "model = DecisionTreeClassifier()\n",
    "model.fit(X=explanatory, y=target)"
   ]
  },
  {
   "cell_type": "code",
   "execution_count": 29,
   "metadata": {},
   "outputs": [
    {
     "data": {
      "text/plain": "array([0, 0, 1, ..., 0, 1, 0])"
     },
     "execution_count": 29,
     "metadata": {},
     "output_type": "execute_result"
    }
   ],
   "source": [
    "model.predict(X=explanatory)"
   ]
  },
  {
   "cell_type": "code",
   "execution_count": 30,
   "metadata": {},
   "outputs": [
    {
     "data": {
      "text/plain": "0.859877800407332"
     },
     "execution_count": 30,
     "metadata": {},
     "output_type": "execute_result"
    }
   ],
   "source": [
    "model.score(X=explanatory, y=target)"
   ]
  },
  {
   "cell_type": "code",
   "execution_count": null,
   "metadata": {},
   "outputs": [],
   "source": []
  }
 ],
 "metadata": {
  "kernelspec": {
   "display_name": "Python 3.9.6 64-bit ('tf': conda)",
   "metadata": {
    "interpreter": {
     "hash": "89235e6dc179e8430b6b240655afdc508145cfcb32d20e45fa4d2234dbc91ce5"
    }
   },
   "name": "python3"
  },
  "language_info": {
   "codemirror_mode": {
    "name": "ipython",
    "version": 3
   },
   "file_extension": ".py",
   "mimetype": "text/x-python",
   "name": "python",
   "nbconvert_exporter": "python",
   "pygments_lexer": "ipython3",
   "version": "3.9.6"
  },
  "orig_nbformat": 2
 },
 "nbformat": 4,
 "nbformat_minor": 2
}